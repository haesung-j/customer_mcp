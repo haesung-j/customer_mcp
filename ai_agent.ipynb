{
 "cells": [
  {
   "cell_type": "markdown",
   "metadata": {},
   "source": [
    "### Tool Binding\n",
    "\n",
    "[OpenAI Function calling](https://platform.openai.com/docs/guides/function-calling?api-mode=responses&example=get-weather) 참고\n",
    "- OpenAI에서 제공하는 LLM은 함수를 호출해야 할 때를 감지한 후 함수를 호출하기 위한 인수가 포함된 JSON을 출력하도록 파인튜닝되어 있음"
   ]
  },
  {
   "cell_type": "code",
   "execution_count": 2,
   "metadata": {},
   "outputs": [
    {
     "data": {
      "text/plain": [
       "AIMessage(content='죄송하지만, 실시간 날씨 정보를 제공할 수는 없습니다. 서울의 날씨를 확인하려면 기상청 웹사이트나 날씨 앱을 이용해 보시기 바랍니다. 도움이 필요하시면 다른 질문 해주세요!', additional_kwargs={'refusal': None}, response_metadata={'token_usage': {'completion_tokens': 50, 'prompt_tokens': 15, 'total_tokens': 65, 'completion_tokens_details': {'accepted_prediction_tokens': 0, 'audio_tokens': 0, 'reasoning_tokens': 0, 'rejected_prediction_tokens': 0}, 'prompt_tokens_details': {'audio_tokens': 0, 'cached_tokens': 0}}, 'model_name': 'gpt-4o-mini-2024-07-18', 'system_fingerprint': 'fp_dbaca60df0', 'id': 'chatcmpl-BNzX5SlnSCh7ogbhHMhKQWeFrKMB1', 'finish_reason': 'stop', 'logprobs': None}, id='run-7940ffa0-92f9-4e1d-85e8-c198ead27be8-0', usage_metadata={'input_tokens': 15, 'output_tokens': 50, 'total_tokens': 65, 'input_token_details': {'audio': 0, 'cache_read': 0}, 'output_token_details': {'audio': 0, 'reasoning': 0}})"
      ]
     },
     "execution_count": 2,
     "metadata": {},
     "output_type": "execute_result"
    }
   ],
   "source": [
    "from dotenv import load_dotenv\n",
    "from langchain_core.tools import tool\n",
    "from langchain_openai import ChatOpenAI\n",
    "\n",
    "load_dotenv()\n",
    "\n",
    "llm = ChatOpenAI(model=\"gpt-4o-mini\", temperature=0)\n",
    "\n",
    "llm.invoke(\"오늘 서울 날씨가 어때?\")"
   ]
  },
  {
   "cell_type": "markdown",
   "metadata": {},
   "source": [
    "> LLM이 도구를 실행해주지는 않는다.\n",
    "\n",
    "- 도구를 바인딩하고 모델을 호출하면, 답변을 위해 적절한 함수명과 params를 반환 "
   ]
  },
  {
   "cell_type": "code",
   "execution_count": 3,
   "metadata": {},
   "outputs": [
    {
     "name": "stdout",
     "output_type": "stream",
     "text": [
      "[{'name': 'get_weather', 'args': {'location': '서울'}, 'id': 'call_wRaeDFNPGWHKRZ8p2b3TMgHY', 'type': 'tool_call'}]\n"
     ]
    }
   ],
   "source": [
    "@tool\n",
    "def get_weather(location: str) -> str:\n",
    "    \"\"\"Get the current weather in a given location\"\"\"\n",
    "    return \"오늘 서울 날씨는 맑아요\"\n",
    "\n",
    "\n",
    "tools = [get_weather]\n",
    "\n",
    "llm_with_tools = llm.bind_tools(tools)\n",
    "\n",
    "response = llm_with_tools.invoke(\"오늘 서울 날씨가 어때?\")\n",
    "\n",
    "print(response.tool_calls)"
   ]
  },
  {
   "cell_type": "code",
   "execution_count": 4,
   "metadata": {},
   "outputs": [
    {
     "name": "stdout",
     "output_type": "stream",
     "text": [
      "오늘 서울 날씨는 맑아요\n"
     ]
    }
   ],
   "source": [
    "toolbox = {\"get_weather\": get_weather}\n",
    "\n",
    "tool_call = response.tool_calls[0]\n",
    "tool_name = tool_call[\"name\"]\n",
    "tool_args = tool_call[\"args\"]\n",
    "\n",
    "result = toolbox[tool_name].invoke(tool_args)\n",
    "print(result)"
   ]
  },
  {
   "cell_type": "markdown",
   "metadata": {},
   "source": [
    "### 1. Tranditional RAG"
   ]
  },
  {
   "cell_type": "markdown",
   "metadata": {},
   "source": [
    "1. 벡터 DB 생성\n",
    "    - 문서를 parsing -> chunking -> embedding -> saving on vector DB"
   ]
  },
  {
   "cell_type": "code",
   "execution_count": 7,
   "metadata": {},
   "outputs": [
    {
     "name": "stdout",
     "output_type": "stream",
     "text": [
      "Loading existing vector store: vector_store\n"
     ]
    }
   ],
   "source": [
    "import os\n",
    "import warnings\n",
    "\n",
    "from langchain_openai import OpenAIEmbeddings\n",
    "from langchain_community.document_loaders import PyMuPDFLoader\n",
    "from langchain.text_splitter import RecursiveCharacterTextSplitter\n",
    "from langchain.vectorstores import Chroma\n",
    "from pathlib import Path\n",
    "\n",
    "warnings.filterwarnings(\"ignore\")\n",
    "\n",
    "\n",
    "DATA_PATH = Path(\"data\")\n",
    "DB_PATH = Path(\"vector_store\")\n",
    "PERSISTANT_DIRECTORY = DB_PATH\n",
    "\n",
    "os.makedirs(PERSISTANT_DIRECTORY, exist_ok=True)\n",
    "\n",
    "loader = PyMuPDFLoader(DATA_PATH / \"ai_brief.pdf\")\n",
    "splitter = RecursiveCharacterTextSplitter(chunk_size=500, chunk_overlap=200)\n",
    "\n",
    "documents = loader.load()\n",
    "chunks = splitter.split_documents(documents)\n",
    "\n",
    "embeddings = OpenAIEmbeddings(model=\"text-embedding-3-large\")\n",
    "\n",
    "if os.path.exists(PERSISTANT_DIRECTORY) and any(os.listdir(PERSISTANT_DIRECTORY)):\n",
    "    print(f\"Loading existing vector store: {PERSISTANT_DIRECTORY}\")\n",
    "    vector_store = Chroma(\n",
    "        persist_directory=str(PERSISTANT_DIRECTORY),\n",
    "        embedding_function=embeddings,\n",
    "        collection_name=\"ai_trends\",\n",
    "    )\n",
    "else:\n",
    "    vector_store = Chroma.from_documents(\n",
    "        documents=chunks,\n",
    "        embedding=embeddings,\n",
    "        collection_name=\"ai_trends\",\n",
    "        persist_directory=str(PERSISTANT_DIRECTORY),\n",
    "    )"
   ]
  },
  {
   "cell_type": "markdown",
   "metadata": {},
   "source": [
    "- Search"
   ]
  },
  {
   "cell_type": "code",
   "execution_count": 38,
   "metadata": {},
   "outputs": [
    {
     "name": "stdout",
     "output_type": "stream",
     "text": [
      "### 결과 1. Page : 9\n",
      "정책･법제\n",
      "기업･산업\n",
      "기술･연구\n",
      "인력･교육\n",
      "7\n",
      "구글, 단일 GPU로 구동 가능한 오픈소스 AI 모델 ‘젬마 3’ 공개\n",
      "n 구글이 휴대 단말에서 단일 GPU나 TPU로 구동할 수 있는 오픈소스 AI 모델 ‘젬마 3’를 매개변수 \n",
      "1B, 4B, 12B, 27B의 4개 버전으로 공개\n",
      "n 구글에 따르면 젬마 3는 챗봇 아레나의 인\n"
     ]
    }
   ],
   "source": [
    "retriever = vector_store.as_retriever(search_kwargs={\"k\": 3})\n",
    "\n",
    "def format_docs(docs):\n",
    "    result = []\n",
    "    for i, doc in enumerate(docs):\n",
    "        res = f\"### 결과 {i+1}. Page : {doc.metadata['page']+1}\\n\"\n",
    "        res += doc.page_content\n",
    "        result.append(res)\n",
    "    return \"\\n\\n=========================\\n\\n\".join(result)\n",
    "\n",
    "\n",
    "query = \"젬마 3의 버전에는 어떤 것들이 있나요?\"\n",
    "\n",
    "result = retriever.invoke(query)\n",
    "context = format_docs(result)\n",
    "\n",
    "print(context[:200])\n"
   ]
  },
  {
   "cell_type": "markdown",
   "metadata": {},
   "source": [
    "### 1. Tranditional RAG"
   ]
  },
  {
   "cell_type": "code",
   "execution_count": 39,
   "metadata": {},
   "outputs": [],
   "source": [
    "from langchain_openai import ChatOpenAI\n",
    "from langchain_core.prompts import ChatPromptTemplate\n",
    "from langchain_core.output_parsers import StrOutputParser\n",
    "from langchain_core.runnables import RunnablePassthrough\n",
    "\n",
    "\n",
    "template = \"\"\"You are an assistant for question-answering tasks. Use the following pieces of retrieved context to answer the question. If you don't know the answer, just say that you don't know. Use three sentences maximum and keep the answer concise.\n",
    "ANSWER IN KOREAN. Be sure to cite the source page in your answer.\n",
    "Question: {question} \n",
    "Context: {context} \n",
    "Answer:\"\"\"\n",
    "\n",
    "prompt = ChatPromptTemplate.from_template(template)\n",
    "\n",
    "llm = ChatOpenAI(model=\"gpt-4o-mini\", temperature=0)\n",
    "\n",
    "chain = (\n",
    "    {\"question\": RunnablePassthrough(), \"context\": retriever | format_docs}\n",
    "    | prompt \n",
    "    | llm \n",
    "    | StrOutputParser()\n",
    "    )\n",
    "\n",
    "# chain.invoke({\"question\": query, \"context\": context})"
   ]
  },
  {
   "cell_type": "code",
   "execution_count": 40,
   "metadata": {},
   "outputs": [
    {
     "name": "stdout",
     "output_type": "stream",
     "text": [
      "젬마 3는 매개변수 1B, 4B, 12B, 27B의 4개 버전으로 제공됩니다. 이 모델은 단일 GPU나 TPU에서 실행할 수 있도록 설계되었습니다. (출처: 페이지 9)\n"
     ]
    }
   ],
   "source": [
    "query = \"젬마 3의 버전에는 어떤 것들이 있나요?\"\n",
    "print(chain.invoke(query))"
   ]
  },
  {
   "cell_type": "code",
   "execution_count": 50,
   "metadata": {},
   "outputs": [
    {
     "data": {
      "image/png": "[encoded data removed]",
      "text/plain": [
       "<IPython.core.display.Image object>"
      ]
     },
     "metadata": {},
     "output_type": "display_data"
    }
   ],
   "source": [
    "from langgraph.graph import StateGraph, START, END\n",
    "from langgraph.graph.message import add_messages\n",
    "from typing import TypedDict, Annotated\n",
    "from langgraph.checkpoint.memory import MemorySaver\n",
    "\n",
    "\n",
    "class State(TypedDict):\n",
    "    messages: Annotated[list, add_messages]\n",
    "    docs: Annotated[str, \"Search Results\"]\n",
    "\n",
    "\n",
    "llm = ChatOpenAI(model=\"gpt-4o-mini\", temperature=0)\n",
    "rag_chain = (\n",
    "    prompt \n",
    "    | llm \n",
    ")\n",
    "\n",
    "def retrieve(state: State):\n",
    "    query = state[\"messages\"][0].content\n",
    "    docs = retriever.invoke(query)\n",
    "    return {\"docs\": format_docs(docs)}\n",
    "\n",
    "\n",
    "def call_model(state: State):\n",
    "    question = state[\"messages\"][0].content\n",
    "    context = state[\"docs\"]\n",
    "    response = rag_chain.invoke({\"question\": question, \"context\": context})\n",
    "    return {\"messages\": [response]}\n",
    "\n",
    "\n",
    "flow = StateGraph(State)\n",
    "\n",
    "flow.add_node(\"retrieve\", retrieve)\n",
    "flow.add_node(\"call_model\", call_model)\n",
    "\n",
    "flow.add_edge(START, \"retrieve\")\n",
    "\n",
    "flow.add_edge(\"retrieve\", \"call_model\")\n",
    "flow.add_edge(\"call_model\", END)\n",
    "\n",
    "memory = MemorySaver()\n",
    "\n",
    "graph = flow.compile(checkpointer=memory)\n",
    "\n",
    "from IPython.display import Image, display\n",
    "\n",
    "display(Image(graph.get_graph().draw_mermaid_png()))"
   ]
  },
  {
   "cell_type": "code",
   "execution_count": 54,
   "metadata": {},
   "outputs": [
    {
     "name": "stdout",
     "output_type": "stream",
     "text": [
      "retrieve: ### 결과 1. Page : 9\n",
      "정책･법제\n",
      "기업･산업\n",
      "기술･연구\n",
      "인력･교육\n",
      "7\n",
      "구글, 단일 GPU로 구동 가능한 오픈소스 AI 모델 ‘젬마 3’ 공개\n",
      "n 구글이 휴대 단말에서 단일 GPU나 TPU로 구동할 수 있는 오픈소스 AI 모델 ‘젬마 3’를 매개변수 \n",
      "1B, 4B, 12B, 27B의 4개 버전으로 공개\n",
      "n 구글에 따르면 젬마 3는 챗봇 아레나의 인간 선호도 평가에서 라마3-405B, 딥시크-V3, o3-\n",
      "미니를 능가하는 것으로 나타나 크기 대비 최고의 성능을 발휘 \n",
      "KEY Contents\n",
      "£ 젬마 3, 텍스트와 시각적 추론 및 최대 128K 토큰의 컨텍스트 창 지원\n",
      "n 구글(Google)이 2024년 3월 12일 ‘제미나이(Gemini) 2.0’ 모델 아키텍처 기반의 경량 오픈소스 \n",
      "AI 모델 ‘젬마 3(Gemma 3)’를 공개\n",
      "∙스마트폰과 노트북 같은 단말에서 단일 GPU나 TPU*로 실행할 수 있는 젬마 3는 매개변수 1B, 4B, 12B,\n",
      "\n",
      "=========================\n",
      "\n",
      "### 결과 2. Page : 9\n",
      "컨텍스트 창 및 작업 자동화와 에이전트 구축을 위한 함수 호출 기능과 구조화된 출력을 제공하며, 양자화* \n",
      "버전을 통해 모델 크기와 컴퓨팅 요구사항을 줄이면서 높은 정확도를 유지\n",
      "* 모델의 매개변수를 저장하는 데 필요한 비트 수를 줄여 모델 크기를 압축하고 연산 속도를 높이는 기술\n",
      "∙구글은 젬마 3가 챗봇 아레나(Chatbot Arena)* 인간 선호도 평가에서 1338점으로 매개변수가 훨씬 큰 \n",
      "모델인 라마3-405B(1269점), 딥시크-V3(1318점), o3-mini(1304점)를 능가했다는 점에서 크기 대비 \n",
      "최고의 성능을 발휘했다고 주장\n",
      "* 사용자 선호도를 통해 AI 모델을 평가하는 오픈소스 플랫폼\n",
      " <젬마 3와 주요 AI 모델의 챗봇 아레나 점수 비교>\n",
      "n 구글은 젬마 3에 대한 광범위한 데이터 거버넌스 및 미세조정, 벤치마크 평가를 통해 안전성을 높이는 한편, \n",
      "젬마 3를 기반으로 이미지 안전성을 검사하는 솔루션 ‘쉴드젬마(ShieldGemma) 2’도 출시\n",
      "\n",
      "=========================\n",
      "\n",
      "### 결과 3. Page : 9\n",
      "n 구글(Google)이 2024년 3월 12일 ‘제미나이(Gemini) 2.0’ 모델 아키텍처 기반의 경량 오픈소스 \n",
      "AI 모델 ‘젬마 3(Gemma 3)’를 공개\n",
      "∙스마트폰과 노트북 같은 단말에서 단일 GPU나 TPU*로 실행할 수 있는 젬마 3는 매개변수 1B, 4B, 12B, \n",
      "27B의 4개 버전으로 제공되어 개발자들이 하드웨어나 성능 요구사항에 맞게 모델을 선택 가능\n",
      "* 구글에서 개발한 머신러닝 전용 프로세서로, 일반 GPU보다 머신러닝 작업에서 뛰어난 성능과 전력 효율성을 보유\n",
      "∙젬마 3는 140개 이상의 언어와 고급 텍스트 이해 및 시각 정보 추론을 지원하고, 최대 12만 8천 개 토큰의 \n",
      "컨텍스트 창 및 작업 자동화와 에이전트 구축을 위한 함수 호출 기능과 구조화된 출력을 제공하며, 양자화* \n",
      "버전을 통해 모델 크기와 컴퓨팅 요구사항을 줄이면서 높은 정확도를 유지\n",
      "* 모델의 매개변수를 저장하는 데 필요한 비트 수를 줄여 모델 크기를 압축하고 연산 속도를 높이는 기술\n",
      "==================================\u001b[1m Ai Message \u001b[0m==================================\n",
      "\n",
      "젬마 3는 매개변수 1B, 4B, 12B, 27B의 4개 버전으로 제공됩니다. 이 모델은 단일 GPU나 TPU에서 실행할 수 있도록 설계되었습니다. (출처: 페이지 9)\n",
      "None\n"
     ]
    }
   ],
   "source": [
    "inputs = {\"messages\": [(\"user\", \"젬마 3의 버전에는 어떤 것들이 있나요?\")]}\n",
    "config = {\"configurable\": {\"thread_id\": \"1\"}}\n",
    "\n",
    "events = graph.stream(inputs, config=config, stream_mode=\"updates\")\n",
    "\n",
    "for event in events:\n",
    "    for k, v in event.items():\n",
    "        if \"messages\" in v:\n",
    "            print(v[\"messages\"][-1].pretty_print())\n",
    "        else:\n",
    "            print(f\"{k}: {v['docs']}\")\n",
    "\n",
    "\n"
   ]
  },
  {
   "cell_type": "markdown",
   "metadata": {},
   "source": [
    "## Tool로 줘보기"
   ]
  },
  {
   "cell_type": "code",
   "execution_count": 66,
   "metadata": {},
   "outputs": [
    {
     "name": "stdout",
     "output_type": "stream",
     "text": [
      "[{'name': 'retrieve_ai_trends', 'args': {'query': '젬마 3 버전'}, 'id': 'call_tCu0m3zntFdJkDOXHf4LKS1n', 'type': 'tool_call'}]\n",
      "[{'name': 'get_weather', 'args': {'location': '서울'}, 'id': 'call_2TKx0Drklj8x0QhjhOQjGQTS', 'type': 'tool_call'}]\n"
     ]
    }
   ],
   "source": [
    "# LangChain 버전\n",
    "from langchain_core.tools import tool\n",
    "\n",
    "@tool\n",
    "def retrieve_ai_trends(query: str) -> str:\n",
    "    \"\"\"Retrieve the latest trends in AI. If your question is related to AI trends, use this tool. The query must be in Korean.\"\"\"\n",
    "    docs = retriever.invoke(query)\n",
    "    return format_docs(docs)\n",
    "\n",
    "\n",
    "@tool\n",
    "def get_weather(location: str) -> str:\n",
    "    \"\"\"Provides the weather for a given location. The location must be in Korean.\"\"\"\n",
    "    if location == \"서울\":\n",
    "        return \"오늘 서울 날씨는 맑아요\"\n",
    "    else:\n",
    "        return f\"오늘 {location}은 바람이 심하게 불고 있습니다..\"\n",
    "\n",
    "tools = [retrieve_ai_trends, get_weather]\n",
    "\n",
    "llm_with_tools = llm.bind_tools(tools)\n",
    "\n",
    "response = llm_with_tools.invoke(\"젬마 3의 버전에는 어떤 것들이 있나요?\")\n",
    "print(response.tool_calls)\n",
    "\n",
    "response = llm_with_tools.invoke(\"오늘 서울의 날씨는 어떤가요?\")\n",
    "print(response.tool_calls)"
   ]
  },
  {
   "cell_type": "code",
   "execution_count": 68,
   "metadata": {},
   "outputs": [
    {
     "data": {
      "image/png": "[encoded data removed]",
      "text/plain": [
       "<IPython.core.display.Image object>"
      ]
     },
     "metadata": {},
     "output_type": "display_data"
    }
   ],
   "source": [
    "# LangGraph 버전\n",
    "from langgraph.graph import StateGraph, START, END\n",
    "from langgraph.prebuilt import create_react_agent\n",
    "from langgraph.graph.message import add_messages\n",
    "from typing import TypedDict, Annotated\n",
    "from langgraph.checkpoint.memory import MemorySaver\n",
    "from langgraph.prebuilt import ToolNode, tools_condition\n",
    "\n",
    "\n",
    "class State(TypedDict):\n",
    "    messages: Annotated[list, add_messages]\n",
    "\n",
    "# 도구 정의\n",
    "tools = [retrieve_ai_trends, get_weather]\n",
    "llm = ChatOpenAI(model=\"gpt-4o-mini\", temperature=0)\n",
    "llm_with_tools = llm.bind_tools(tools)\n",
    "\n",
    "def agent(state: State):\n",
    "    query = state[\"messages\"][0].content\n",
    "    response = llm_with_tools.invoke(query)\n",
    "    return {\"messages\": [response]}\n",
    "\n",
    "\n",
    "tool_node = ToolNode(tools=tools)\n",
    "\n",
    "\n",
    "flow = StateGraph(State)\n",
    "flow.add_node(\"agent\", agent)\n",
    "flow.add_node(\"tools\", tool_node)\n",
    "\n",
    "flow.add_edge(START, \"agent\")\n",
    "flow.add_edge(\"tools\", \"agent\")\n",
    "\n",
    "flow.add_conditional_edges(\n",
    "    \"agent\",\n",
    "    tools_condition\n",
    ")\n",
    "\n",
    "memory = MemorySaver()\n",
    "graph = flow.compile(checkpointer=memory)\n",
    "\n",
    "display(Image(graph.get_graph().draw_mermaid_png()))"
   ]
  },
  {
   "cell_type": "code",
   "execution_count": null,
   "metadata": {},
   "outputs": [],
   "source": []
  }
 ],
 "metadata": {
  "kernelspec": {
   "display_name": ".venv",
   "language": "python",
   "name": "python3"
  },
  "language_info": {
   "codemirror_mode": {
    "name": "ipython",
    "version": 3
   },
   "file_extension": ".py",
   "mimetype": "text/x-python",
   "name": "python",
   "nbconvert_exporter": "python",
   "pygments_lexer": "ipython3",
   "version": "3.11.12"
  }
 },
 "nbformat": 4,
 "nbformat_minor": 2
}
