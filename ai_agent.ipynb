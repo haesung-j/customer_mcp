{
 "cells": [
  {
   "cell_type": "markdown",
   "metadata": {},
   "source": [
    "### Tool Binding\n",
    "\n",
    "[OpenAI Function calling](https://platform.openai.com/docs/guides/function-calling?api-mode=responses&example=get-weather) 참고\n",
    "- OpenAI에서 제공하는 LLM은 함수를 호출해야 할 때를 감지한 후 함수를 호출하기 위한 인수가 포함된 JSON을 출력하도록 파인튜닝되어 있음"
   ]
  },
  {
   "cell_type": "code",
   "execution_count": 1,
   "metadata": {},
   "outputs": [
    {
     "data": {
      "text/plain": [
       "AIMessage(content='죄송하지만, 실시간 날씨 정보를 제공할 수는 없습니다. 서울의 현재 날씨를 확인하려면 기상청 웹사이트나 날씨 앱을 이용해 보시기 바랍니다. 도움이 필요하시면 다른 질문 해주세요!', additional_kwargs={'refusal': None}, response_metadata={'token_usage': {'completion_tokens': 51, 'prompt_tokens': 15, 'total_tokens': 66, 'completion_tokens_details': {'accepted_prediction_tokens': 0, 'audio_tokens': 0, 'reasoning_tokens': 0, 'rejected_prediction_tokens': 0}, 'prompt_tokens_details': {'audio_tokens': 0, 'cached_tokens': 0}}, 'model_name': 'gpt-4o-mini-2024-07-18', 'system_fingerprint': 'fp_0392822090', 'id': 'chatcmpl-BO0uT92iJmJjRJnbaGyKzoX5U8Vvq', 'finish_reason': 'stop', 'logprobs': None}, id='run-f0d33342-7add-453a-ae91-5972e6baf39b-0', usage_metadata={'input_tokens': 15, 'output_tokens': 51, 'total_tokens': 66, 'input_token_details': {'audio': 0, 'cache_read': 0}, 'output_token_details': {'audio': 0, 'reasoning': 0}})"
      ]
     },
     "execution_count": 1,
     "metadata": {},
     "output_type": "execute_result"
    }
   ],
   "source": [
    "from dotenv import load_dotenv\n",
    "from langchain_core.tools import tool\n",
    "from langchain_openai import ChatOpenAI\n",
    "\n",
    "load_dotenv()\n",
    "\n",
    "llm = ChatOpenAI(model=\"gpt-4o-mini\", temperature=0)\n",
    "\n",
    "llm.invoke(\"오늘 서울 날씨가 어때?\")"
   ]
  },
  {
   "cell_type": "markdown",
   "metadata": {},
   "source": [
    "> LLM이 도구를 실행해주지는 않는다.\n",
    "\n",
    "- 도구를 바인딩하고 모델을 호출하면, 답변을 위해 적절한 함수명과 params를 반환 "
   ]
  },
  {
   "cell_type": "code",
   "execution_count": 2,
   "metadata": {},
   "outputs": [
    {
     "name": "stdout",
     "output_type": "stream",
     "text": [
      "[{'name': 'get_weather', 'args': {'location': '서울'}, 'id': 'call_1fRrJp5ihZ58y01fJhK7uxKd', 'type': 'tool_call'}]\n"
     ]
    }
   ],
   "source": [
    "@tool\n",
    "def get_weather(location: str) -> str:\n",
    "    \"\"\"Get the current weather in a given location\"\"\"\n",
    "    return \"오늘 서울 날씨는 맑아요\"\n",
    "\n",
    "\n",
    "tools = [get_weather]\n",
    "\n",
    "llm_with_tools = llm.bind_tools(tools)\n",
    "\n",
    "response = llm_with_tools.invoke(\"오늘 서울 날씨가 어때?\")\n",
    "\n",
    "print(response.tool_calls)"
   ]
  },
  {
   "cell_type": "code",
   "execution_count": 3,
   "metadata": {},
   "outputs": [
    {
     "name": "stdout",
     "output_type": "stream",
     "text": [
      "오늘 서울 날씨는 맑아요\n"
     ]
    }
   ],
   "source": [
    "toolbox = {\"get_weather\": get_weather}\n",
    "\n",
    "tool_call = response.tool_calls[0]\n",
    "tool_name = tool_call[\"name\"]\n",
    "tool_args = tool_call[\"args\"]\n",
    "\n",
    "result = toolbox[tool_name].invoke(tool_args)\n",
    "print(result)"
   ]
  },
  {
   "cell_type": "markdown",
   "metadata": {},
   "source": [
    "### 1. Tranditional RAG"
   ]
  },
  {
   "cell_type": "markdown",
   "metadata": {},
   "source": [
    "1. 벡터 DB 생성\n",
    "    - 문서를 parsing -> chunking -> embedding -> saving on vector DB"
   ]
  },
  {
   "cell_type": "code",
   "execution_count": 4,
   "metadata": {},
   "outputs": [
    {
     "name": "stdout",
     "output_type": "stream",
     "text": [
      "Loading existing vector store: mcp_sample/vector_store\n"
     ]
    }
   ],
   "source": [
    "import os\n",
    "import warnings\n",
    "\n",
    "from langchain_openai import OpenAIEmbeddings\n",
    "from langchain_community.document_loaders import PyMuPDFLoader\n",
    "from langchain.text_splitter import RecursiveCharacterTextSplitter\n",
    "from langchain.vectorstores import Chroma\n",
    "from pathlib import Path\n",
    "\n",
    "warnings.filterwarnings(\"ignore\")\n",
    "\n",
    "BASE_DIR = Path(\"mcp_sample\")\n",
    "DATA_PATH = BASE_DIR / \"data\"\n",
    "DB_PATH = BASE_DIR / \"vector_store\"\n",
    "PERSISTANT_DIRECTORY = DB_PATH\n",
    "\n",
    "os.makedirs(PERSISTANT_DIRECTORY, exist_ok=True)\n",
    "\n",
    "loader = PyMuPDFLoader(DATA_PATH / \"ai_brief.pdf\")\n",
    "splitter = RecursiveCharacterTextSplitter(chunk_size=500, chunk_overlap=200)\n",
    "\n",
    "documents = loader.load()\n",
    "chunks = splitter.split_documents(documents)\n",
    "\n",
    "embeddings = OpenAIEmbeddings(model=\"text-embedding-3-large\")\n",
    "\n",
    "if os.path.exists(PERSISTANT_DIRECTORY) and any(os.listdir(PERSISTANT_DIRECTORY)):\n",
    "    print(f\"Loading existing vector store: {PERSISTANT_DIRECTORY}\")\n",
    "    vector_store = Chroma(\n",
    "        persist_directory=str(PERSISTANT_DIRECTORY),\n",
    "        embedding_function=embeddings,\n",
    "        collection_name=\"ai_trends\",\n",
    "    )\n",
    "else:\n",
    "    vector_store = Chroma.from_documents(\n",
    "        documents=chunks,\n",
    "        embedding=embeddings,\n",
    "        collection_name=\"ai_trends\",\n",
    "        persist_directory=str(PERSISTANT_DIRECTORY),\n",
    "    )"
   ]
  },
  {
   "cell_type": "code",
   "execution_count": 5,
   "metadata": {},
   "outputs": [],
   "source": [
    "retriever = vector_store.as_retriever(search_kwargs={\"k\": 3})"
   ]
  },
  {
   "cell_type": "code",
   "execution_count": 8,
   "metadata": {},
   "outputs": [
    {
     "data": {
      "text/plain": [
       "<coroutine object BaseRetriever.ainvoke at 0x7f041e737df0>"
      ]
     },
     "execution_count": 8,
     "metadata": {},
     "output_type": "execute_result"
    }
   ],
   "source": [
    "retriever.ainvoke(\"Sean은 누구인가요?\")"
   ]
  },
  {
   "cell_type": "code",
   "execution_count": 5,
   "metadata": {},
   "outputs": [
    {
     "data": {
      "text/plain": [
       "['e31655dc-cad6-4979-beee-b126740a94bb']"
      ]
     },
     "execution_count": 5,
     "metadata": {},
     "output_type": "execute_result"
    }
   ],
   "source": [
    "## 특이 케이스 추가 (테스트용)\n",
    "from langchain_core.documents import Document\n",
    "\n",
    "dummy_doc = Document(\n",
    "    page_content=\"Sean은 LG CNS의 데이터 사이언티스트입니다. 소속 팀은 Customer AI Analytics팀이며, 4월 22일에 팀 정보공유회를 준비하고 있습니다. 최근에는 LLM 관련 프로젝트에 관심이 많으며, 일본의 영어 교육회사 AEON과 프로젝트를 진행하고 있습니다.\",\n",
    "    metadata={\"page\": 1211},\n",
    ")\n",
    "\n",
    "vector_store.add_documents([dummy_doc])"
   ]
  },
  {
   "cell_type": "markdown",
   "metadata": {},
   "source": [
    "- Search"
   ]
  },
  {
   "cell_type": "code",
   "execution_count": null,
   "metadata": {},
   "outputs": [
    {
     "name": "stdout",
     "output_type": "stream",
     "text": [
      "### 결과 1. Page : 1212\n",
      "Sean은 LG CNS의 데이터 사이언티스트입니다. 소속 팀은 Customer AI Analytics팀이며, 4월 22일에 팀 정보공유회를 준비하고 있습니다. 최근에는 LLM 관련 프로젝트에 관심이 많으며, 일본의 영어 교육회사 AEON과 프로젝트를 진행하고 있습니다.\n",
      "\n",
      "=========================\n",
      "\n"
     ]
    }
   ],
   "source": [
    "retriever = vector_store.as_retriever(search_kwargs={\"k\": 3})\n",
    "\n",
    "\n",
    "def format_docs(docs):\n",
    "    result = []\n",
    "    for i, doc in enumerate(docs):\n",
    "        res = f\"### 결과 {i+1}. Page : {doc.metadata['page']+1}\\n\"\n",
    "        res += doc.page_content\n",
    "        result.append(res)\n",
    "    return \"\\n\\n=========================\\n\\n\".join(result)\n",
    "\n",
    "\n",
    "# query = \"젬마 3의 버전에는 어떤 것들이 있나요?\"\n",
    "query = \"Sean은 누구인가요?\"\n",
    "\n",
    "result = retriever.invoke(query)\n",
    "context = format_docs(result)\n",
    "\n",
    "print(context[:200])"
   ]
  },
  {
   "cell_type": "markdown",
   "metadata": {},
   "source": [
    "### 1. Tranditional RAG"
   ]
  },
  {
   "cell_type": "code",
   "execution_count": 7,
   "metadata": {},
   "outputs": [],
   "source": [
    "from langchain_openai import ChatOpenAI\n",
    "from langchain_core.prompts import ChatPromptTemplate\n",
    "from langchain_core.output_parsers import StrOutputParser\n",
    "from langchain_core.runnables import RunnablePassthrough\n",
    "\n",
    "\n",
    "template = \"\"\"You are an assistant for question-answering tasks. Use the following pieces of retrieved context to answer the question. If you don't know the answer, just say that you don't know. Use three sentences maximum and keep the answer concise.\n",
    "ANSWER IN KOREAN. Be sure to cite the source page in your answer.\n",
    "Question: {question} \n",
    "Context: {context} \n",
    "Answer:\"\"\"\n",
    "\n",
    "prompt = ChatPromptTemplate.from_template(template)\n",
    "\n",
    "llm = ChatOpenAI(model=\"gpt-4o-mini\", temperature=0)\n",
    "\n",
    "chain = (\n",
    "    {\"question\": RunnablePassthrough(), \"context\": retriever | format_docs}\n",
    "    | prompt\n",
    "    | llm\n",
    "    | StrOutputParser()\n",
    ")\n",
    "\n",
    "# chain.invoke({\"question\": query, \"context\": context})"
   ]
  },
  {
   "cell_type": "code",
   "execution_count": 8,
   "metadata": {},
   "outputs": [
    {
     "name": "stdout",
     "output_type": "stream",
     "text": [
      "Sean은 LG CNS의 데이터 사이언티스트로, Customer AI Analytics팀에 소속되어 있습니다. 그는 LLM 관련 프로젝트에 관심이 많으며, 일본의 영어 교육회사 AEON과 협력하고 있습니다. (출처: Page 1212)\n"
     ]
    }
   ],
   "source": [
    "# query = \"젬마 3의 버전에는 어떤 것들이 있나요?\"\n",
    "query = \"Sean은 누구인가요?\"\n",
    "print(chain.invoke(query))"
   ]
  },
  {
   "cell_type": "code",
   "execution_count": null,
   "metadata": {},
   "outputs": [
    {
     "data": {
      "image/png": "[encoded data removed]",
      "text/plain": [
       "<IPython.core.display.Image object>"
      ]
     },
     "metadata": {},
     "output_type": "display_data"
    }
   ],
   "source": [
    "from langgraph.graph import StateGraph, START, END\n",
    "from langgraph.graph.message import add_messages\n",
    "from typing import TypedDict, Annotated\n",
    "from langgraph.checkpoint.memory import MemorySaver\n",
    "\n",
    "\n",
    "class State(TypedDict):\n",
    "    messages: Annotated[list, add_messages]\n",
    "    docs: Annotated[str, \"Search Results\"]\n",
    "\n",
    "\n",
    "llm = ChatOpenAI(model=\"gpt-4o-mini\", temperature=0)\n",
    "rag_chain = prompt | llm\n",
    "\n",
    "\n",
    "def retrieve(state: State):\n",
    "    query = state[\"messages\"][0].content\n",
    "    docs = retriever.invoke(query)\n",
    "    return {\"docs\": format_docs(docs)}\n",
    "\n",
    "\n",
    "def call_model(state: State):\n",
    "    question = state[\"messages\"][0].content\n",
    "    context = state[\"docs\"]\n",
    "    response = rag_chain.invoke({\"question\": question, \"context\": context})\n",
    "    return {\"messages\": [response]}\n",
    "\n",
    "\n",
    "flow = StateGraph(State)\n",
    "\n",
    "flow.add_node(\"retrieve\", retrieve)\n",
    "flow.add_node(\"call_model\", call_model)\n",
    "\n",
    "flow.add_edge(START, \"retrieve\")\n",
    "\n",
    "flow.add_edge(\"retrieve\", \"call_model\")\n",
    "flow.add_edge(\"call_model\", END)\n",
    "\n",
    "memory = MemorySaver()\n",
    "\n",
    "graph = flow.compile(checkpointer=memory)\n",
    "\n",
    "from IPython.display import Image, display\n",
    "\n",
    "display(Image(graph.get_graph().draw_mermaid_png()))"
   ]
  },
  {
   "cell_type": "code",
   "execution_count": null,
   "metadata": {},
   "outputs": [
    {
     "name": "stdout",
     "output_type": "stream",
     "text": [
      "retrieve: ### 결과 1. Page : 1212\n",
      "Sean은 LG CNS의 데이터 사이언티스트입니다. 소속 팀은 Customer AI Analytics팀이며, 4월 22일에 팀 정보공유회를 준비하고 있습니다. 최근에는 LLM 관련 프로젝트에 관심이 많으며, 일본의 영어 교육회사 AEON과 프로젝트를 진행하고 있습니다.\n",
      "\n",
      "=========================\n",
      "\n",
      "### 결과 2. Page : 29\n",
      "홈페이지 : https://spri.kr\n",
      "보고서와 관련된 문의는 AI정책연구실(hs.lee@spri.kr, 031-739-7333)로 연락주시기 바랍니다.\n",
      "경기도 성남시 분당구 대왕판교로 712번길 22 글로벌 R&D 연구동(B) 4층\n",
      "22, Daewangpangyo-ro 712beon-gil, Bundang-gu, Seongnam-si, Gyeonggi-do, Republic of Korea, 13488\n",
      "\n",
      "=========================\n",
      "\n",
      "### 결과 3. Page : 4\n",
      "제출하겠다고 발언 \n",
      "∙레이쥔(雷軍) 샤오미(Xiaomi) CEO 겸 전인대 대표는 AI 기반 얼굴 합성과 음성 복제 기술의 남용 억제를 \n",
      "강조하는 한편, 업계의 자정 노력 강화와 AI에 대한 대중 인식 제고를 촉구\n",
      "∙정협 위원인 리징훙(李景虹) 칭화대(清华⼤) 교수는 인재 양성과 고용 보장, 국제 협력, 지식재산권 등 \n",
      "광범위한 AI 문제를 포괄하는 AI 진흥법 도입을 제안\n",
      "출처 | 中国政府网, 最全！50个动态场景看2025《政府⼯作报告》全⽂, 2025.03.05.\n",
      "        Global Times, AI in spotlight at China's \"two sessions\", 2025.03.09.\n",
      "==================================\u001b[1m Ai Message \u001b[0m==================================\n",
      "\n",
      "Sean은 LG CNS의 데이터 사이언티스트로, Customer AI Analytics팀에 소속되어 있습니다. 그는 LLM 관련 프로젝트에 관심이 많으며, 일본의 영어 교육회사 AEON과 협력하고 있습니다. (출처: Page 1212)\n",
      "None\n"
     ]
    }
   ],
   "source": [
    "# inputs = {\"messages\": [(\"user\", \"젬마 3의 버전에는 어떤 것들이 있나요?\")]}\n",
    "inputs = {\"messages\": [(\"user\", \"Sean은 누구인가요?\")]}\n",
    "config = {\"configurable\": {\"thread_id\": \"1\"}}\n",
    "\n",
    "events = graph.stream(inputs, config=config, stream_mode=\"updates\")\n",
    "\n",
    "for event in events:\n",
    "    for k, v in event.items():\n",
    "        if \"messages\" in v:\n",
    "            print(v[\"messages\"][-1].pretty_print())\n",
    "        else:\n",
    "            print(f\"{k}: {v['docs']}\")"
   ]
  },
  {
   "cell_type": "markdown",
   "metadata": {},
   "source": [
    "## Tool로 줘보기"
   ]
  },
  {
   "cell_type": "code",
   "execution_count": 16,
   "metadata": {},
   "outputs": [
    {
     "name": "stdout",
     "output_type": "stream",
     "text": [
      "[{'name': 'retrieve_ai_trends', 'args': {'query': 'Sean은 누구인가요?'}, 'id': 'call_30fbs8WFn9xbcKimTallwJ0G', 'type': 'tool_call'}]\n",
      "[{'name': 'get_weather', 'args': {'location': '서울'}, 'id': 'call_PHURHZTpYAYirGOtKDTpTFvW', 'type': 'tool_call'}]\n"
     ]
    }
   ],
   "source": [
    "# LangChain 버전\n",
    "from langchain_core.tools import tool\n",
    "\n",
    "\n",
    "@tool\n",
    "def retrieve_ai_trends(query: str) -> str:\n",
    "    \"\"\"Retrieve the latest trends in AI. If your question is related to AI trends, use this tool. This tool also contains information about a person named Sean. The query must be in Korean.\"\"\"\n",
    "    docs = retriever.invoke(query)\n",
    "    return format_docs(docs)\n",
    "\n",
    "\n",
    "@tool\n",
    "def get_weather(location: str) -> str:\n",
    "    \"\"\"Provides the weather for a given location. The location must be in Korean.\"\"\"\n",
    "    if location == \"서울\":\n",
    "        return \"오늘 서울 날씨는 맑아요\"\n",
    "    else:\n",
    "        return f\"오늘 {location}은 바람이 심하게 불고 있습니다.\"\n",
    "\n",
    "\n",
    "tools = [retrieve_ai_trends, get_weather]\n",
    "\n",
    "llm_with_tools = llm.bind_tools(tools)\n",
    "\n",
    "# response = llm_with_tools.invoke(\"젬마 3의 버전에는 어떤 것들이 있나요?\")\n",
    "response = llm_with_tools.invoke(\"Sean은 누구인가요?\")\n",
    "print(response.tool_calls)\n",
    "\n",
    "response = llm_with_tools.invoke(\"오늘 서울의 날씨는 어떤가요?\")\n",
    "print(response.tool_calls)"
   ]
  },
  {
   "cell_type": "code",
   "execution_count": 17,
   "metadata": {},
   "outputs": [
    {
     "data": {
      "image/png": "[encoded data removed]",
      "text/plain": [
       "<IPython.core.display.Image object>"
      ]
     },
     "metadata": {},
     "output_type": "display_data"
    }
   ],
   "source": [
    "# LangGraph 버전\n",
    "from langgraph.graph import StateGraph, START, END\n",
    "from langgraph.prebuilt import create_react_agent\n",
    "from langgraph.graph.message import add_messages\n",
    "from typing import TypedDict, Annotated\n",
    "from langgraph.checkpoint.memory import MemorySaver\n",
    "from langgraph.prebuilt import ToolNode, tools_condition\n",
    "from langgraph.types import StreamWriter\n",
    "from langchain_core.messages import AIMessage\n",
    "\n",
    "\n",
    "class State(TypedDict):\n",
    "    messages: Annotated[list, add_messages]\n",
    "\n",
    "\n",
    "# 도구 정의\n",
    "tools = [retrieve_ai_trends, get_weather]\n",
    "llm = ChatOpenAI(model=\"gpt-4o-mini\", temperature=0)\n",
    "llm_with_tools = llm.bind_tools(tools)\n",
    "\n",
    "\n",
    "def agent(state: State, writer: StreamWriter):\n",
    "    messages = state[\"messages\"]\n",
    "    response = []\n",
    "    tool_calls = None\n",
    "    first = True\n",
    "\n",
    "    for chunk in llm_with_tools.stream(messages):\n",
    "        if chunk.tool_call_chunks:\n",
    "            if first:\n",
    "                tool_calls = chunk\n",
    "                first = False\n",
    "            else:\n",
    "                tool_calls += chunk\n",
    "        elif chunk.content:\n",
    "            response.append(chunk.content)\n",
    "            writer(chunk.content)\n",
    "        else:\n",
    "            continue\n",
    "    if response:\n",
    "        response = AIMessage(content=\"\".join(response))\n",
    "        if tool_calls:\n",
    "            response.tool_calls = tool_calls.tool_calls\n",
    "        return {\"messages\": [response]}\n",
    "    else:\n",
    "        return {\"messages\": [tool_calls]}\n",
    "\n",
    "\n",
    "tool_node = ToolNode(tools=tools)\n",
    "\n",
    "\n",
    "flow = StateGraph(State)\n",
    "flow.add_node(\"agent\", agent)\n",
    "flow.add_node(\"tools\", tool_node)\n",
    "\n",
    "flow.add_edge(START, \"agent\")\n",
    "flow.add_edge(\"tools\", \"agent\")\n",
    "\n",
    "flow.add_conditional_edges(\"agent\", tools_condition)\n",
    "\n",
    "memory = MemorySaver()\n",
    "graph = flow.compile(checkpointer=memory)\n",
    "\n",
    "display(Image(graph.get_graph().draw_mermaid_png()))"
   ]
  },
  {
   "cell_type": "code",
   "execution_count": 18,
   "metadata": {},
   "outputs": [
    {
     "name": "stdout",
     "output_type": "stream",
     "text": [
      "User: Sean은 누구인가요?\n",
      "AI: Sean은 LG CNS의 데이터 사이언티스트로, Customer AI Analytics팀에 소속되어 있습니다. 그는 최근 LLM(대형 언어 모델) 관련 프로젝트에 관심을 가지고 있으며, 일본의 영어 교육회사 AEON과 프로젝트를 진행하고 있습니다.\n",
      "User: q\n",
      "AI: 안녕히 계세요.\n"
     ]
    }
   ],
   "source": [
    "import uuid\n",
    "import sys\n",
    "from langchain_core.messages import HumanMessage\n",
    "\n",
    "thread_id = str(uuid.uuid4())\n",
    "config = {\"recursion_limit\": 10, \"configurable\": {\"thread_id\": thread_id}}\n",
    "\n",
    "\n",
    "while True:\n",
    "    user = input(\"User (q / Q to quit): \")\n",
    "\n",
    "    print(f\"User: {user}\")\n",
    "\n",
    "    if user in [\"q\", \"Q\"]:\n",
    "        print(\"AI: 안녕히 계세요.\")\n",
    "        break\n",
    "\n",
    "    output = None\n",
    "    inputs = {\"messages\": [HumanMessage(content=user)]}\n",
    "    first = True\n",
    "    for chunk in graph.stream(inputs, config, stream_mode=\"custom\"):\n",
    "        if first:\n",
    "            print(\"AI: \", end=\"\")\n",
    "            first = False\n",
    "        if chunk:\n",
    "            print(chunk, end=\"\", flush=True)\n",
    "    print()\n",
    "    first = True\n",
    "    if output and \"generate_prompt\" in output:\n",
    "        print(\"Done!\")"
   ]
  },
  {
   "cell_type": "code",
   "execution_count": 19,
   "metadata": {},
   "outputs": [
    {
     "data": {
      "text/plain": [
       "[HumanMessage(content='Sean은 누구인가요?', additional_kwargs={}, response_metadata={}, id='f8a247bb-d165-4517-b8d9-f10d1ce66cae'),\n",
       " AIMessage(content='', additional_kwargs={'tool_calls': [{'index': 0, 'id': 'call_5YCxCWrWTmLin1DKtmGFgSEw', 'function': {'arguments': '{\"query\":\"Sean은 누구인가요?\"}', 'name': 'retrieve_ai_trends'}, 'type': 'function'}]}, response_metadata={}, id='run-c3dcf747-07ef-4b2d-97dc-4edfdff2d9e0', tool_calls=[{'name': 'retrieve_ai_trends', 'args': {'query': 'Sean은 누구인가요?'}, 'id': 'call_5YCxCWrWTmLin1DKtmGFgSEw', 'type': 'tool_call'}]),\n",
       " ToolMessage(content='### 결과 1. Page : 1212\\nSean은 LG CNS의 데이터 사이언티스트입니다. 소속 팀은 Customer AI Analytics팀이며, 4월 22일에 팀 정보공유회를 준비하고 있습니다. 최근에는 LLM 관련 프로젝트에 관심이 많으며, 일본의 영어 교육회사 AEON과 프로젝트를 진행하고 있습니다.\\n\\n=========================\\n\\n### 결과 2. Page : 29\\n홈페이지 : https://spri.kr\\n보고서와 관련된 문의는 AI정책연구실(hs.lee@spri.kr, 031-739-7333)로 연락주시기 바랍니다.\\n경기도 성남시 분당구 대왕판교로 712번길 22 글로벌 R&D 연구동(B) 4층\\n22, Daewangpangyo-ro 712beon-gil, Bundang-gu, Seongnam-si, Gyeonggi-do, Republic of Korea, 13488\\n\\n=========================\\n\\n### 결과 3. Page : 4\\n제출하겠다고 발언 \\n∙레이쥔(雷軍) 샤오미(Xiaomi) CEO 겸 전인대 대표는 AI 기반 얼굴 합성과 음성 복제 기술의 남용 억제를 \\n강조하는 한편, 업계의 자정 노력 강화와 AI에 대한 대중 인식 제고를 촉구\\n∙정협 위원인 리징훙(李景虹) 칭화대(清华⼤) 교수는 인재 양성과 고용 보장, 국제 협력, 지식재산권 등 \\n광범위한 AI 문제를 포괄하는 AI 진흥법 도입을 제안\\n출처 | 中国政府网, 最全！50个动态场景看2025《政府⼯作报告》全⽂, 2025.03.05.\\n        Global Times, AI in spotlight at China\\'s \"two sessions\", 2025.03.09.', name='retrieve_ai_trends', id='9accd5a4-4ea7-4ca7-aa5a-b5ced4936095', tool_call_id='call_5YCxCWrWTmLin1DKtmGFgSEw'),\n",
       " AIMessage(content='Sean은 LG CNS의 데이터 사이언티스트로, Customer AI Analytics팀에 소속되어 있습니다. 그는 최근 LLM(대형 언어 모델) 관련 프로젝트에 관심을 가지고 있으며, 일본의 영어 교육회사 AEON과 프로젝트를 진행하고 있습니다.', additional_kwargs={}, response_metadata={}, id='8821e54c-e630-43c2-87c3-1e388fbf06ba')]"
      ]
     },
     "execution_count": 19,
     "metadata": {},
     "output_type": "execute_result"
    }
   ],
   "source": [
    "snapshot = graph.get_state(config)\n",
    "snapshot.values[\"messages\"]"
   ]
  },
  {
   "cell_type": "markdown",
   "metadata": {},
   "source": [
    "### 3. MCP 활용하기\n",
    "1. SSE 방식\n",
    "    - 기존 FastAPI를 원격에서 서빙하고, 클라이언트가 호출하는 방식과 유사\n",
    "    - mcp_server를 호스팅하고(여기서는 로컬서버), 애플리케이션을 sse 방식으로 연결"
   ]
  },
  {
   "cell_type": "code",
   "execution_count": 18,
   "metadata": {},
   "outputs": [
    {
     "name": "stdout",
     "output_type": "stream",
     "text": [
      "==================================\u001b[1m Ai Message \u001b[0m==================================\n",
      "Tool Calls:\n",
      "  retrieve_ai_trends (call_pyeCyeMU2ouvTZJOntYEiSJJ)\n",
      " Call ID: call_pyeCyeMU2ouvTZJOntYEiSJJ\n",
      "  Args:\n",
      "    query: Sean은 누구인가요?\n",
      "None\n",
      "=================================\u001b[1m Tool Message \u001b[0m=================================\n",
      "Name: retrieve_ai_trends\n",
      "\n",
      "### 결과 1. Page : 1212\n",
      "Sean은 LG CNS의 데이터 사이언티스트입니다. 소속 팀은 Customer AI Analytics팀이며, 4월 22일에 팀 정보공유회를 준비하고 있습니다. 최근에는 LLM 관련 프로젝트에 관심이 많으며, 일본의 영어 교육회사 AEON과 프로젝트를 진행하고 있습니다.\n",
      "\n",
      "=========================\n",
      "\n",
      "### 결과 2. Page : 29\n",
      "홈페이지 : https://spri.kr\n",
      "보고서와 관련된 문의는 AI정책연구실(hs.lee@spri.kr, 031-739-7333)로 연락주시기 바랍니다.\n",
      "경기도 성남시 분당구 대왕판교로 712번길 22 글로벌 R&D 연구동(B) 4층\n",
      "22, Daewangpangyo-ro 712beon-gil, Bundang-gu, Seongnam-si, Gyeonggi-do, Republic of Korea, 13488\n",
      "\n",
      "=========================\n",
      "\n",
      "### 결과 3. Page : 4\n",
      "제출하겠다고 발언 \n",
      "∙레이쥔(雷軍) 샤오미(Xiaomi) CEO 겸 전인대 대표는 AI 기반 얼굴 합성과 음성 복제 기술의 남용 억제를 \n",
      "강조하는 한편, 업계의 자정 노력 강화와 AI에 대한 대중 인식 제고를 촉구\n",
      "∙정협 위원인 리징훙(李景虹) 칭화대(清华⼤) 교수는 인재 양성과 고용 보장, 국제 협력, 지식재산권 등 \n",
      "광범위한 AI 문제를 포괄하는 AI 진흥법 도입을 제안\n",
      "출처 | 中国政府网, 最全！50个动态场景看2025《政府⼯作报告》全⽂, 2025.03.05.\n",
      "        Global Times, AI in spotlight at China's \"two sessions\", 2025.03.09.\n",
      "None\n",
      "==================================\u001b[1m Ai Message \u001b[0m==================================\n",
      "\n",
      "Sean은 LG CNS의 데이터 사이언티스트로, Customer AI Analytics팀에 소속되어 있습니다. 그는 최근 LLM 관련 프로젝트에 관심이 많고, 일본의 영어 교육회사 AEON과 프로젝트를 진행하고 있습니다.\n",
      "None\n"
     ]
    }
   ],
   "source": [
    "from langchain_mcp_adapters.client import MultiServerMCPClient\n",
    "from langgraph.prebuilt import create_react_agent\n",
    "from dotenv import load_dotenv\n",
    "from langchain_openai import ChatOpenAI\n",
    "\n",
    "load_dotenv()\n",
    "\n",
    "model = ChatOpenAI(model=\"gpt-4o\")\n",
    "\n",
    "async with MultiServerMCPClient(\n",
    "    {\n",
    "        # \"math\": {\n",
    "        #     \"command\": \"python\",\n",
    "        #     # Make sure to update to the full absolute path to your math_server.py file\n",
    "        #     \"args\": [\"/mcp_sample/mcp_server.py\"],\n",
    "        #     \"transport\": \"stdio\",\n",
    "        # },\n",
    "        \"retrieve_ai_trends\": {\n",
    "            # make sure you start your weather server on port 8000\n",
    "            \"url\": \"http://localhost:4100/sse\",\n",
    "            \"transport\": \"sse\",\n",
    "        }\n",
    "    }\n",
    ") as client:\n",
    "    agent = create_react_agent(model, client.get_tools())\n",
    "    async for event in agent.astream({\"messages\": \"Sean은 누구인가요?\"}):\n",
    "        for k, v in event.items():\n",
    "            if \"messages\" in v:\n",
    "                print(v[\"messages\"][-1].pretty_print())\n",
    "            else:\n",
    "                print(f\"{k}: {v['docs']}\")"
   ]
  },
  {
   "cell_type": "code",
   "execution_count": 19,
   "metadata": {},
   "outputs": [
    {
     "name": "stdout",
     "output_type": "stream",
     "text": [
      "[StructuredTool(name='retrieve_ai_trends', description='Retrieve the latest trends in AI. If your question is related to AI trends, use this tool. This tool also contains information about a person named Sean. The query must be in Korean.', args_schema={'properties': {'query': {'title': 'Query', 'type': 'string'}}, 'required': ['query'], 'title': 'retrieve_ai_trendsArguments', 'type': 'object'}, response_format='content_and_artifact', coroutine=<function convert_mcp_tool_to_langchain_tool.<locals>.call_tool at 0x7f03b8113880>)]\n"
     ]
    },
    {
     "name": "stderr",
     "output_type": "stream",
     "text": [
      "Error in sse_reader: peer closed connection without sending complete message body (incomplete chunked read)\n"
     ]
    }
   ],
   "source": [
    "client = MultiServerMCPClient(\n",
    "    {\n",
    "        \"retrieve_ai_trends\": {\n",
    "            \"url\": \"http://localhost:4100/sse\",\n",
    "            \"transport\": \"sse\",\n",
    "        }\n",
    "    }\n",
    ")\n",
    "\n",
    "await client.__aenter__()\n",
    "\n",
    "print(client.get_tools())\n",
    "\n",
    "# await client.__aexit__()"
   ]
  },
  {
   "cell_type": "code",
   "execution_count": null,
   "metadata": {},
   "outputs": [
    {
     "name": "stdout",
     "output_type": "stream",
     "text": [
      "==================================\u001b[1m Ai Message \u001b[0m==================================\n",
      "\n",
      "현재 서울의 날씨 정보를 확인할 수 없습니다. 날씨 정보를 얻으려면 날씨 관련 웹사이트나 앱을 참고하시기 바랍니다.\n",
      "None\n"
     ]
    }
   ],
   "source": [
    "agent = create_react_agent(model, client.get_tools())\n",
    "async for event in agent.astream({\"messages\": \"Sean은 누구인가요?\"}):\n",
    "    for k, v in event.items():\n",
    "        if \"messages\" in v:\n",
    "            print(v[\"messages\"][-1].pretty_print())\n",
    "        else:\n",
    "            print(f\"{k}: {v['docs']}\")"
   ]
  },
  {
   "cell_type": "code",
   "execution_count": null,
   "metadata": {},
   "outputs": [],
   "source": []
  }
 ],
 "metadata": {
  "kernelspec": {
   "display_name": ".venv",
   "language": "python",
   "name": "python3"
  },
  "language_info": {
   "codemirror_mode": {
    "name": "ipython",
    "version": 3
   },
   "file_extension": ".py",
   "mimetype": "text/x-python",
   "name": "python",
   "nbconvert_exporter": "python",
   "pygments_lexer": "ipython3",
   "version": "3.11.12"
  }
 },
 "nbformat": 4,
 "nbformat_minor": 2
}
